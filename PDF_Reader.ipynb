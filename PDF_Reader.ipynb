{
  "cells": [
    {
      "cell_type": "markdown",
      "metadata": {
        "id": "gUT6fRPyf6ui"
      },
      "source": [
        "# Extracting text from PDF files"
      ]
    },
    {
      "cell_type": "code",
      "source": [
        "from google.colab import drive\n",
        "drive.mount('/content/drive')"
      ],
      "metadata": {
        "colab": {
          "base_uri": "https://localhost:8080/"
        },
        "id": "grhuIh8vf_s6",
        "outputId": "6fa094c9-2383-460d-b57f-0e27ae4110af"
      },
      "execution_count": 18,
      "outputs": [
        {
          "output_type": "stream",
          "name": "stdout",
          "text": [
            "Drive already mounted at /content/drive; to attempt to forcibly remount, call drive.mount(\"/content/drive\", force_remount=True).\n"
          ]
        }
      ]
    },
    {
      "cell_type": "code",
      "source": [
        "!pip install PyPDF2\n",
        "!pip install pdfminer.six\n",
        "!pip install pdfplumber\n",
        "!pip install pdf2image\n",
        "!pip install Pillow\n",
        "!sudo apt install tesseract-ocr\n",
        "!pip install pytesseract"
      ],
      "metadata": {
        "id": "qokEQKDFgzmf",
        "colab": {
          "base_uri": "https://localhost:8080/"
        },
        "collapsed": true,
        "outputId": "8dcfd1b4-19e3-4248-f576-a73b34fd6ac1"
      },
      "execution_count": 19,
      "outputs": [
        {
          "output_type": "stream",
          "name": "stdout",
          "text": [
            "Requirement already satisfied: PyPDF2 in /usr/local/lib/python3.10/dist-packages (3.0.1)\n",
            "Requirement already satisfied: pdfminer.six in /usr/local/lib/python3.10/dist-packages (20231228)\n",
            "Requirement already satisfied: charset-normalizer>=2.0.0 in /usr/local/lib/python3.10/dist-packages (from pdfminer.six) (3.3.2)\n",
            "Requirement already satisfied: cryptography>=36.0.0 in /usr/local/lib/python3.10/dist-packages (from pdfminer.six) (42.0.7)\n",
            "Requirement already satisfied: cffi>=1.12 in /usr/local/lib/python3.10/dist-packages (from cryptography>=36.0.0->pdfminer.six) (1.16.0)\n",
            "Requirement already satisfied: pycparser in /usr/local/lib/python3.10/dist-packages (from cffi>=1.12->cryptography>=36.0.0->pdfminer.six) (2.22)\n",
            "Requirement already satisfied: pdfplumber in /usr/local/lib/python3.10/dist-packages (0.11.0)\n",
            "Requirement already satisfied: pdfminer.six==20231228 in /usr/local/lib/python3.10/dist-packages (from pdfplumber) (20231228)\n",
            "Requirement already satisfied: Pillow>=9.1 in /usr/local/lib/python3.10/dist-packages (from pdfplumber) (9.4.0)\n",
            "Requirement already satisfied: pypdfium2>=4.18.0 in /usr/local/lib/python3.10/dist-packages (from pdfplumber) (4.30.0)\n",
            "Requirement already satisfied: charset-normalizer>=2.0.0 in /usr/local/lib/python3.10/dist-packages (from pdfminer.six==20231228->pdfplumber) (3.3.2)\n",
            "Requirement already satisfied: cryptography>=36.0.0 in /usr/local/lib/python3.10/dist-packages (from pdfminer.six==20231228->pdfplumber) (42.0.7)\n",
            "Requirement already satisfied: cffi>=1.12 in /usr/local/lib/python3.10/dist-packages (from cryptography>=36.0.0->pdfminer.six==20231228->pdfplumber) (1.16.0)\n",
            "Requirement already satisfied: pycparser in /usr/local/lib/python3.10/dist-packages (from cffi>=1.12->cryptography>=36.0.0->pdfminer.six==20231228->pdfplumber) (2.22)\n",
            "Requirement already satisfied: pdf2image in /usr/local/lib/python3.10/dist-packages (1.17.0)\n",
            "Requirement already satisfied: pillow in /usr/local/lib/python3.10/dist-packages (from pdf2image) (9.4.0)\n",
            "Requirement already satisfied: Pillow in /usr/local/lib/python3.10/dist-packages (9.4.0)\n",
            "Reading package lists... Done\n",
            "Building dependency tree... Done\n",
            "Reading state information... Done\n",
            "tesseract-ocr is already the newest version (4.1.1-2.1build1).\n",
            "0 upgraded, 0 newly installed, 0 to remove and 45 not upgraded.\n",
            "Requirement already satisfied: pytesseract in /usr/local/lib/python3.10/dist-packages (0.3.10)\n",
            "Requirement already satisfied: packaging>=21.3 in /usr/local/lib/python3.10/dist-packages (from pytesseract) (24.0)\n",
            "Requirement already satisfied: Pillow>=8.0.0 in /usr/local/lib/python3.10/dist-packages (from pytesseract) (9.4.0)\n"
          ]
        }
      ]
    },
    {
      "cell_type": "code",
      "source": [
        "#Libraries to be installed\n",
        "!sudo apt-get update\n",
        "!apt-get install poppler-utils"
      ],
      "metadata": {
        "id": "0iN_aYR1iWDo",
        "colab": {
          "base_uri": "https://localhost:8080/"
        },
        "outputId": "7842d5c1-32c1-48e8-a4ee-14cd66f076e7",
        "collapsed": true
      },
      "execution_count": 20,
      "outputs": [
        {
          "output_type": "stream",
          "name": "stdout",
          "text": [
            "Hit:1 https://cloud.r-project.org/bin/linux/ubuntu jammy-cran40/ InRelease\n",
            "Hit:2 https://developer.download.nvidia.com/compute/cuda/repos/ubuntu2204/x86_64  InRelease\n",
            "Get:3 http://security.ubuntu.com/ubuntu jammy-security InRelease [110 kB]\n",
            "Hit:4 http://archive.ubuntu.com/ubuntu jammy InRelease\n",
            "Get:5 http://archive.ubuntu.com/ubuntu jammy-updates InRelease [119 kB]\n",
            "Hit:6 http://archive.ubuntu.com/ubuntu jammy-backports InRelease\n",
            "Hit:7 https://ppa.launchpadcontent.net/c2d4u.team/c2d4u4.0+/ubuntu jammy InRelease\n",
            "Hit:8 https://ppa.launchpadcontent.net/deadsnakes/ppa/ubuntu jammy InRelease\n",
            "Hit:9 https://ppa.launchpadcontent.net/graphics-drivers/ppa/ubuntu jammy InRelease\n",
            "Hit:10 https://ppa.launchpadcontent.net/ubuntugis/ppa/ubuntu jammy InRelease\n",
            "Fetched 229 kB in 4s (56.7 kB/s)\n",
            "Reading package lists... Done\n",
            "Reading package lists... Done\n",
            "Building dependency tree... Done\n",
            "Reading state information... Done\n",
            "poppler-utils is already the newest version (22.02.0-2ubuntu0.4).\n",
            "0 upgraded, 0 newly installed, 0 to remove and 45 not upgraded.\n"
          ]
        }
      ]
    },
    {
      "cell_type": "code",
      "execution_count": 21,
      "metadata": {
        "id": "Oxo0h0Jyf6uk"
      },
      "outputs": [],
      "source": [
        "# To read the PDF\n",
        "import PyPDF2\n",
        "# To analyze the PDF layout and extract text\n",
        "from pdfminer.high_level import extract_pages, extract_text\n",
        "from pdfminer.layout import LTTextContainer, LTChar, LTRect, LTFigure\n",
        "# To extract text from tables in PDF\n",
        "import pdfplumber\n",
        "# To extract the images from the PDFs\n",
        "from PIL import Image\n",
        "from pdf2image import convert_from_path\n",
        "# To perform OCR to extract text from images\n",
        "import pytesseract\n",
        "# To remove the additional created files\n",
        "import os"
      ]
    },
    {
      "cell_type": "code",
      "execution_count": 22,
      "metadata": {
        "id": "7SXvSn8yf6um"
      },
      "outputs": [],
      "source": [
        "# Create function to extract text\n",
        "\n",
        "def text_extraction(element):\n",
        "    # Extracting the text from the in line text element\n",
        "    line_text = element.get_text()\n",
        "\n",
        "    # Find the formats of the text\n",
        "    # Initialize the list with all the formats appeared in the line of text\n",
        "    line_formats = []\n",
        "    for text_line in element:\n",
        "        if isinstance(text_line, LTTextContainer):\n",
        "            # Iterating through each character in the line of text\n",
        "            for character in text_line:\n",
        "                if isinstance(character, LTChar):\n",
        "                    # Append the font name of the character\n",
        "                    line_formats.append(character.fontname)\n",
        "                    # Append the font size of the character\n",
        "                    line_formats.append(character.size)\n",
        "    # Find the unique font sizes and names in the line\n",
        "    format_per_line = list(set(line_formats))\n",
        "\n",
        "    # Return a tuple with the text in each line along with its format\n",
        "    return (line_text, format_per_line)"
      ]
    },
    {
      "cell_type": "code",
      "execution_count": 23,
      "metadata": {
        "id": "rLAZ_O8Ef6un"
      },
      "outputs": [],
      "source": [
        "# Extracting tables from the page\n",
        "\n",
        "def extract_table(pdf_path, page_num, table_num):\n",
        "    # Open the pdf file\n",
        "    pdf = pdfplumber.open(pdf_path)\n",
        "    # Find the examined page\n",
        "    table_page = pdf.pages[page_num]\n",
        "    # Extract the appropriate table\n",
        "    table = table_page.extract_tables()[table_num]\n",
        "\n",
        "    return table\n",
        "\n",
        "# Convert table into appropriate fromat\n",
        "def table_converter(table):\n",
        "    table_string = ''\n",
        "    # Iterate through each row of the table\n",
        "    for row_num in range(len(table)):\n",
        "        row = table[row_num]\n",
        "        # Remove the line breaker from the wrapted texts\n",
        "        cleaned_row = [item.replace('\\n', ' ') if item is not None and '\\n' in item else 'None' if item is None else item for item in row]\n",
        "        # Convert the table into a string\n",
        "        table_string+=('|'+'|'.join(cleaned_row)+'|'+'\\n')\n",
        "    # Removing the last line break\n",
        "    table_string = table_string[:-1]\n",
        "    return table_string\n",
        "\n",
        "# Create a function to check if the element is in any tables present in the page\n",
        "def is_element_inside_any_table(element, page ,tables):\n",
        "    x0, y0up, x1, y1up = element.bbox\n",
        "    # Change the cordinates because the pdfminer counts from the botton to top of the page\n",
        "    y0 = page.bbox[3] - y1up\n",
        "    y1 = page.bbox[3] - y0up\n",
        "    for table in tables:\n",
        "        tx0, ty0, tx1, ty1 = table.bbox\n",
        "        if tx0 <= x0 <= x1 <= tx1 and ty0 <= y0 <= y1 <= ty1:\n",
        "            return True\n",
        "    return False\n",
        "\n",
        "# Function to find the table for a given element\n",
        "def find_table_for_element(element, page ,tables):\n",
        "    x0, y0up, x1, y1up = element.bbox\n",
        "    # Change the cordinates because the pdfminer counts from the botton to top of the page\n",
        "    y0 = page.bbox[3] - y1up\n",
        "    y1 = page.bbox[3] - y0up\n",
        "    for i, table in enumerate(tables):\n",
        "        tx0, ty0, tx1, ty1 = table.bbox\n",
        "        if tx0 <= x0 <= x1 <= tx1 and ty0 <= y0 <= y1 <= ty1:\n",
        "            return i  # Return the index of the table\n",
        "    return None"
      ]
    },
    {
      "cell_type": "code",
      "execution_count": 24,
      "metadata": {
        "id": "FMkPjQqcf6up"
      },
      "outputs": [],
      "source": [
        "# Create a function to crop the image elements from PDFs\n",
        "def crop_image(element, pageObj):\n",
        "    # Get the coordinates to crop the image from PDF\n",
        "    [image_left, image_top, image_right, image_bottom] = [element.x0,element.y0,element.x1,element.y1]\n",
        "    # Crop the page using coordinates (left, bottom, right, top)\n",
        "    pageObj.mediabox.lower_left = (image_left, image_bottom)\n",
        "    pageObj.mediabox.upper_right = (image_right, image_top)\n",
        "    # Save the cropped page to a new PDF\n",
        "    cropped_pdf_writer = PyPDF2.PdfWriter()\n",
        "    cropped_pdf_writer.add_page(pageObj)\n",
        "    # Save the cropped PDF to a new file\n",
        "    with open('cropped_image.pdf', 'wb') as cropped_pdf_file:\n",
        "        cropped_pdf_writer.write(cropped_pdf_file)\n",
        "\n",
        "# Create a function to convert the PDF to images\n",
        "def convert_to_images(input_file,):\n",
        "    images = convert_from_path(input_file)\n",
        "    image = images[0]\n",
        "    output_file = 'PDF_image.png'\n",
        "    image.save(output_file, 'PNG')\n",
        "\n",
        "# Create a function to read text from images\n",
        "def image_to_text(image_path):\n",
        "    # Read the image\n",
        "    img = Image.open(image_path)\n",
        "    # Extract the text from the image\n",
        "    text = pytesseract.image_to_string(img)\n",
        "    return text"
      ]
    },
    {
      "cell_type": "code",
      "execution_count": 25,
      "metadata": {
        "id": "ccI61amUf6ur"
      },
      "outputs": [],
      "source": [
        "# Find the PDF path\n",
        "pdf_path = '/content/drive/MyDrive/FinEase360/merged (pdf.io)(2).pdf'\n",
        "# Create a pdf file object\n",
        "pdfFileObj = open(pdf_path, 'rb')\n",
        "# Create a pdf reader object\n",
        "pdfReaded = PyPDF2.PdfReader(pdfFileObj)"
      ]
    },
    {
      "cell_type": "code",
      "execution_count": 26,
      "metadata": {
        "id": "fYleUQo1f6uw"
      },
      "outputs": [],
      "source": [
        "# Create the dictionary to extract text from each image\n",
        "text_per_page = {}\n",
        "# Create a boolean variable for image detection\n",
        "image_flag = False\n",
        "\n",
        "# We extract the pages from the PDF\n",
        "for pagenum, page in enumerate(extract_pages(pdf_path)):\n",
        "\n",
        "    # Initialize the variables needed for the text extraction from the page\n",
        "    pageObj = pdfReaded.pages[pagenum]\n",
        "    page_text = []\n",
        "    line_format = []\n",
        "    text_from_images = []\n",
        "    text_from_tables = []\n",
        "    page_content = []\n",
        "    # Initialize the number of the examined tables\n",
        "    table_in_page= -1\n",
        "    # Open the pdf file\n",
        "    pdf = pdfplumber.open(pdf_path)\n",
        "    # Find the examined page\n",
        "    page_tables = pdf.pages[pagenum]\n",
        "    # Find the number of tables in the page\n",
        "    tables = page_tables.find_tables()\n",
        "    if len(tables)!=0:\n",
        "        table_in_page = 0\n",
        "\n",
        "    # Extracting the tables of the page\n",
        "    for table_num in range(len(tables)):\n",
        "        # Extract the information of the table\n",
        "        table = extract_table(pdf_path, pagenum, table_num)\n",
        "        # Convert the table information in structured string format\n",
        "        table_string = table_converter(table)\n",
        "        # Append the table string into a list\n",
        "        text_from_tables.append(table_string)\n",
        "\n",
        "    # Find all the elements\n",
        "    page_elements = [(element.y1, element) for element in page._objs]\n",
        "    # Sort all the element as they appear in the page\n",
        "    page_elements.sort(key=lambda a: a[0], reverse=True)\n",
        "\n",
        "\n",
        "    # Find the elements that composed a page\n",
        "    for i,component in enumerate(page_elements):\n",
        "        # Extract the element of the page layout\n",
        "        element = component[1]\n",
        "\n",
        "        # Check the elements for tables\n",
        "        if table_in_page == -1:\n",
        "            pass\n",
        "        else:\n",
        "            if is_element_inside_any_table(element, page ,tables):\n",
        "                table_found = find_table_for_element(element,page ,tables)\n",
        "                if table_found == table_in_page and table_found != None:\n",
        "                    page_content.append(text_from_tables[table_in_page])\n",
        "                    page_text.append('table')\n",
        "                    line_format.append('table')\n",
        "                    table_in_page+=1\n",
        "                # Pass this iteration because the content of this element was extracted from the tables\n",
        "                continue\n",
        "\n",
        "        if not is_element_inside_any_table(element,page,tables):\n",
        "\n",
        "            # Check if the element is text element\n",
        "            if isinstance(element, LTTextContainer):\n",
        "                # Use the function to extract the text and format for each text element\n",
        "                (line_text, format_per_line) = text_extraction(element)\n",
        "                # Append the text of each line to the page text\n",
        "                page_text.append(line_text)\n",
        "                # Append the format for each line containing text\n",
        "                line_format.append(format_per_line)\n",
        "                page_content.append(line_text)\n",
        "\n",
        "\n",
        "            # Check the elements for images\n",
        "            if isinstance(element, LTFigure):\n",
        "                # Crop the image from PDF\n",
        "                crop_image(element, pageObj)\n",
        "                # Convert the croped pdf to image\n",
        "                convert_to_images('cropped_image.pdf')\n",
        "                # Extract the text from image\n",
        "                image_text = image_to_text('PDF_image.png')\n",
        "                text_from_images.append(image_text)\n",
        "                page_content.append(image_text)\n",
        "                # Add a placeholder in the text and format lists\n",
        "                page_text.append('image')\n",
        "                line_format.append('image')\n",
        "                # Update the flag for image detection\n",
        "                image_flag = True\n",
        "\n",
        "\n",
        "    # Create the key of the dictionary\n",
        "    dctkey = 'Page_'+str(pagenum)\n",
        "    # Add the list of list as value of the page key\n",
        "    text_per_page[dctkey]= [page_text, line_format, text_from_images,text_from_tables, page_content]"
      ]
    },
    {
      "cell_type": "code",
      "execution_count": 27,
      "metadata": {
        "id": "fWyAHQKkf6uy"
      },
      "outputs": [],
      "source": [
        "# Close the pdf file object\n",
        "pdfFileObj.close()"
      ]
    },
    {
      "cell_type": "code",
      "execution_count": 28,
      "metadata": {
        "id": "hD0w11TQf6uz"
      },
      "outputs": [],
      "source": [
        "# Delete the additional files created if image is detected\n",
        "if image_flag:\n",
        "    os.remove('cropped_image.pdf')\n",
        "    os.remove('PDF_image.png')"
      ]
    },
    {
      "cell_type": "code",
      "execution_count": 29,
      "metadata": {
        "id": "2H3iOIOff6u0",
        "colab": {
          "base_uri": "https://localhost:8080/"
        },
        "outputId": "2bb69cc8-5212-481f-8b7e-7203f44c0957"
      },
      "outputs": [
        {
          "output_type": "stream",
          "name": "stdout",
          "text": [
            "a 231 Valley Farms Street\n",
            "FIRST\n",
            "\n",
            "Santa Monica, CA 90403\n",
            "CITIZENS firstcitizensbank@domain.com\n",
            "\n",
            "Account Number: 111-234-567-890\n",
            "Statement Date: mm/dd/yyyy\n",
            "Period Covered: mm/dd/yyyy to mm/dd/yyyy\n",
            "\n",
            "STATEMENT OF ACCOUNT\n",
            "\n",
            "Page 1 of 1\n",
            "\n",
            " \n",
            "\n",
            "John Smith Opening Balance: 175,800.00\n",
            "2450 Courage St, STE 108 Total Credit Amount: 510,000.00\n",
            "Brownsville, TX 78521 Total Debit Amount: 94,000.00\n",
            "Closing Balance: 591,800.00\n",
            "<Branch Name> Account Type: Current Account\n",
            "Number of Transactions: 8\n",
            "Transactions\n",
            "Date Description Credit Debit Balance\n",
            "mm/dd/yyyy Payment - Credit Card 5,400.00 170,400.00\n",
            "mm/dd/yyyy Payment - Insurance 3,000.00 167,400.00\n",
            "mm/dd/yyyy Account Transfer In 500,000.00 667,400.00\n",
            "mm/dd/yyyy Cheque Deposite 10,000.00 677,400.00\n",
            "mm/dd/yyyy Payment - Electricity 1,500.00 675,900.00\n",
            "mm/dd/yyyy Payment - Water Utility 600.00 675,300.00\n",
            "mm/dd/yyyy Payment - Car Loan 3,500.00 671,800.00\n",
            "mm/dd/yyyy Account Transfer Out 80,000.00 591,800.00\n",
            "\n",
            "--- End of Transactions ---\n",
            "\f\n"
          ]
        }
      ],
      "source": [
        "# Display the content of the page\n",
        "result = ''.join(text_per_page['Page_0'][4])\n",
        "print(result)"
      ]
    }
  ],
  "metadata": {
    "kernelspec": {
      "display_name": "Python 3",
      "name": "python3"
    },
    "language_info": {
      "codemirror_mode": {
        "name": "ipython",
        "version": 3
      },
      "file_extension": ".py",
      "mimetype": "text/x-python",
      "name": "python",
      "nbconvert_exporter": "python",
      "pygments_lexer": "ipython3",
      "version": "3.9.12"
    },
    "orig_nbformat": 4,
    "vscode": {
      "interpreter": {
        "hash": "18e1f6b75012c804af28ad83a5c9691a3f91030522fe6d37827743bbd4743ddd"
      }
    },
    "colab": {
      "provenance": [],
      "gpuType": "T4"
    },
    "accelerator": "GPU"
  },
  "nbformat": 4,
  "nbformat_minor": 0
}